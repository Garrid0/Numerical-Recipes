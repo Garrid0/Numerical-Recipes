{
 "cells": [
  {
   "cell_type": "markdown",
   "metadata": {
    "deletable": false,
    "editable": false,
    "nbgrader": {
     "checksum": "315fee087a8e8665b302ad7e9b4ed014",
     "grade": false,
     "grade_id": "cell-f929f0b429c2f9f2",
     "locked": true,
     "schema_version": 1,
     "solution": false
    }
   },
   "source": [
    "# Checkpoint 1\n",
    "\n",
    "### Read This First\n",
    "**1. Use the constants provided in the cell below. Do not use your own constants.**\n",
    "\n",
    "**2. Put the code that produces the output for a given task in the specific cell indicated. You are welcome to add as many cells as you like for imports, function definitions, variables, etc. Additional cells need to be in the proper order such that your code runs the first time through.**"
   ]
  },
  {
   "cell_type": "markdown",
   "metadata": {
    "deletable": false,
    "editable": false,
    "nbgrader": {
     "checksum": "690bf3368d24b1328b5419916644b63a",
     "grade": false,
     "grade_id": "cell-00b461b536baa8b0",
     "locked": true,
     "schema_version": 1,
     "solution": false
    }
   },
   "source": [
    "The Coulomb law is given by:\n",
    "\n",
    "$\n",
    "\\Large\n",
    "\\begin{align}\n",
    "F(r) = -\\frac{e^{2}}{4 \\pi \\epsilon_{0} r^{2}} \\left( \\frac{r}{r_{0}} \\right)^{\\alpha},\n",
    "\\end{align}\n",
    "$\n",
    "\n",
    "where $r_{0}$ is the Bhor radius, given by:\n",
    "\n",
    "$\n",
    "\\Large\n",
    "\\begin{align}\n",
    "r_{0} = \\frac{4 \\pi \\epsilon_{0} \\hbar^{2}}{m e^{2}}.\n",
    "\\end{align}\n",
    "$\n",
    "\n",
    "The electric potential is given by:\n",
    "\n",
    "$\n",
    "\\Large\n",
    "\\begin{align}\n",
    "V(r) = \\int_{r}^{\\infty} F(r^{\\prime}) dr^{\\prime}\n",
    "\\end{align}\n",
    "$\n",
    "\n",
    "Use the following constants:\n",
    "* $\\frac{\\hbar^{2}}{2m} = 0.0380998\\ nm^{2} eV$ (called `c1` below)\n",
    "* $\\frac{e^{2}}{4 \\pi \\epsilon_{0}} = 1.43996\\ nm\\ eV$ (called `c2` below)\n",
    "* $r_{0} = 0.0529177\\ nm$ (called `r0` below)\n",
    "* Planck constant $h = 6.62606896\\times10^{-34} J s$ (`h`)\n",
    "* Speed of light $c = 299792458\\ m/s$ (`c`)"
   ]
  },
  {
   "cell_type": "code",
   "execution_count": 1,
   "metadata": {},
   "outputs": [],
   "source": [
    "# add imports here\n",
    "import numpy as np\n",
    "import matplotlib.pyplot as plt\n",
    "%matplotlib inline\n",
    "import scipy.integrate as integrate\n",
    "from scipy.integrate import quad\n",
    "from scipy.sparse import diags\n",
    "from scipy.sparse.linalg import eigsh\n",
    "from scipy.sparse.linalg import eigs\n",
    "from scipy.optimize import brentq"
   ]
  },
  {
   "cell_type": "code",
   "execution_count": 2,
   "metadata": {
    "deletable": false,
    "editable": false,
    "nbgrader": {
     "checksum": "b6790997617156b5781458cf46b3754a",
     "grade": false,
     "grade_id": "cell-9913456206f72bf7",
     "locked": true,
     "schema_version": 1,
     "solution": false
    }
   },
   "outputs": [],
   "source": [
    "plt.rcParams['figure.figsize'] = (10, 6)\n",
    "plt.rcParams['font.size'] = 14"
   ]
  },
  {
   "cell_type": "code",
   "execution_count": 3,
   "metadata": {
    "deletable": false,
    "editable": false,
    "nbgrader": {
     "checksum": "496109a24e55b81c1ad0f8e4711ea518",
     "grade": false,
     "grade_id": "cell-c66763620c79f017",
     "locked": true,
     "schema_version": 1,
     "solution": false
    }
   },
   "outputs": [],
   "source": [
    "# Constants (use these)\n",
    "c1 = 0.0380998 # nm^2 eV\n",
    "c2 = 1.43996 # nm eV\n",
    "r0 = 0.0529177 # nm\n",
    "h  = 6.62606896e-34 # J s\n",
    "c  = 299792458. # m/s\n",
    "hc = 1239.8419 # eV nm"
   ]
  },
  {
   "cell_type": "markdown",
   "metadata": {
    "deletable": false,
    "editable": false,
    "nbgrader": {
     "checksum": "b4b7d541abd01c304207a86df9f580d5",
     "grade": false,
     "grade_id": "cell-ddbd12299834bcf9",
     "locked": true,
     "schema_version": 1,
     "solution": false
    }
   },
   "source": [
    "## Task 1\n",
    "\n",
    "Write a code that calculates $V(r)$ numerically for $\\alpha = 0.01$ and plots it for $r$ = 0.01...1 nm. Remember to label the axes."
   ]
  },
  {
   "cell_type": "code",
   "execution_count": 4,
   "metadata": {},
   "outputs": [],
   "source": [
    "def Force(r,a):\n",
    "    f=-c2/r**2*(r/r0)**a\n",
    "    return(f)"
   ]
  },
  {
   "cell_type": "code",
   "execution_count": 5,
   "metadata": {
    "deletable": false,
    "nbgrader": {
     "checksum": "9a15fb93db84d9570695742ee70e4642",
     "grade": false,
     "grade_id": "cell-19b61f45c0da77f1",
     "locked": false,
     "schema_version": 1,
     "solution": true
    }
   },
   "outputs": [],
   "source": [
    "### TASK 1\n",
    "def potential_numerical(r, alpha):\n",
    "    v=quad(Force,r,np.inf,args=(alpha))\n",
    "    return(v)[0]   "
   ]
  },
  {
   "cell_type": "code",
   "execution_count": 6,
   "metadata": {
    "deletable": false,
    "nbgrader": {
     "checksum": "d9f32070f767e8bccf34844f6316236d",
     "grade": true,
     "grade_id": "cell-fa1faffe2cff65ce",
     "locked": false,
     "points": 1,
     "schema_version": 1,
     "solution": true
    },
    "scrolled": true
   },
   "outputs": [
    {
     "data": {
      "image/png": "[encoded data removed]",
      "text/plain": [
       "<Figure size 720x432 with 1 Axes>"
      ]
     },
     "metadata": {
      "needs_background": "light"
     },
     "output_type": "display_data"
    }
   ],
   "source": [
    "### TASK 1\n",
    "r=np.linspace(1.0/100,1,1000)\n",
    "\n",
    "potentialVals = np.zeros_like(r)\n",
    "for i in range(len(r)):\n",
    "    temp = potential_numerical(r[i], 0.01)\n",
    "    potentialVals[i]+= temp\n",
    "\n",
    "plt.plot(r,potentialVals)\n",
    "plt.xlabel(\"Radial distance (nm)\")\n",
    "plt.ylabel(\"Potential (eV)\")\n",
    "plt.title(\"Plot of potential against radial distance\")\n",
    "plt.show()"
   ]
  },
  {
   "cell_type": "markdown",
   "metadata": {
    "deletable": false,
    "editable": false,
    "nbgrader": {
     "checksum": "92f356aa18d24393b5bec54f393da148",
     "grade": false,
     "grade_id": "cell-678a89b66171e6d3",
     "locked": true,
     "schema_version": 1,
     "solution": false
    }
   },
   "source": [
    "## Task 2\n",
    "\n",
    "In addition to (1), the test below will compare the analytic expression for $𝑉(r)$ with the numerically obtained values for $r$ = 0.01,0.02...1 nm. The biggest absolute difference $diff = max |V_{exact}(r) − V_{numerical}(r)|$ must be smaller than 10$^{−5}$ eV. There is nothing else for you to do."
   ]
  },
  {
   "cell_type": "code",
   "execution_count": 7,
   "metadata": {},
   "outputs": [],
   "source": [
    "def potential_analitical(r,a):\n",
    "    av= c2*(r/r0)**a/((a-1)*r)\n",
    "    return(av)"
   ]
  },
  {
   "cell_type": "code",
   "execution_count": 8,
   "metadata": {},
   "outputs": [
    {
     "name": "stdout",
     "output_type": "stream",
     "text": [
      "The biggest absolute difference between the numerical calculation of the potential and the analitical one is:  1.3419310107565252e-10\n"
     ]
    }
   ],
   "source": [
    "analiticalVals = np.zeros_like(r)\n",
    "for i in range(len(r)):\n",
    "    analiticalVals[i]+=potential_analitical(r[i],0.01)\n",
    "print(\"The biggest absolute difference between the numerical calculation of the potential and the analitical one is: \", abs(max(potentialVals-analiticalVals)))"
   ]
  },
  {
   "cell_type": "code",
   "execution_count": 9,
   "metadata": {
    "deletable": false,
    "editable": false,
    "nbgrader": {
     "checksum": "0cb57cd809b5161814890d23cabce466",
     "grade": true,
     "grade_id": "cell-18a0198ee954ee3a",
     "locked": true,
     "points": 1,
     "schema_version": 1,
     "solution": false
    }
   },
   "outputs": [
    {
     "data": {
      "text/plain": [
       "-2.975081858428647"
      ]
     },
     "execution_count": 9,
     "metadata": {},
     "output_type": "execute_result"
    }
   ],
   "source": [
    "# We will call your function for one value of r and alpha = 0.01. There will be more tests!\n",
    "potential_numerical(0.5, 0.01)"
   ]
  },
  {
   "cell_type": "markdown",
   "metadata": {
    "deletable": false,
    "editable": false,
    "nbgrader": {
     "checksum": "c4d5ec124f352475542dbdc64f2f667e",
     "grade": false,
     "grade_id": "cell-77cc74c026259c0f",
     "locked": true,
     "schema_version": 1,
     "solution": false
    }
   },
   "source": [
    "## Task 3\n",
    "\n",
    "In addition to (2), calculate the first 2 energy levels (eigenvalues of $H$) for $\\alpha = 0, 0.01$ and print out the values in eV. The values must be accurate to 0.01 eV. This requires sufficiently large $r_{max}$ and $N$. Plot the difference $\\Delta E$ between the two energies for $\\alpha = 0, 0.01$. Remember to label the axes."
   ]
  },
  {
   "cell_type": "code",
   "execution_count": 18,
   "metadata": {},
   "outputs": [],
   "source": [
    "N = 700\n",
    "rmax= 1.1\n",
    "deltar=rmax/N\n",
    "\n",
    "\n",
    "diagonals = [np.full((N),  -2),\n",
    "             np.full((N-1), 1),\n",
    "             np.full((N-1), 1)]\n",
    "\n",
    "\n",
    "hh = diags(diagonals, [0, -1, 1])\n",
    "hh = hh/deltar**2"
   ]
  },
  {
   "cell_type": "code",
   "execution_count": 19,
   "metadata": {
    "deletable": false,
    "nbgrader": {
     "checksum": "00698aa373d010f9dab385863172ae0a",
     "grade": false,
     "grade_id": "cell-f196598ea00db23e",
     "locked": false,
     "schema_version": 1,
     "solution": true
    }
   },
   "outputs": [],
   "source": [
    "def energy_levels(alpha):\n",
    "    \n",
    "    r_range=np.arange(1,N+1)\n",
    "    \n",
    "    vmatrix=np.diag(potential_analitical(r_range*deltar,alpha))\n",
    "    hamiltonian=-c1*hh+vmatrix\n",
    "    vv, ww = eigs(hamiltonian,sigma=13.6,k=min(40, N-2), which=\"LM\")\n",
    "    E = np.sort(np.real(vv))\n",
    "    \n",
    "    return E[0], E[1]"
   ]
  },
  {
   "cell_type": "code",
   "execution_count": 20,
   "metadata": {
    "deletable": false,
    "nbgrader": {
     "checksum": "1b2dad6e677e2420275a518b3782d203",
     "grade": true,
     "grade_id": "cell-0eb042d5e4a7759a",
     "locked": false,
     "points": 1,
     "schema_version": 1,
     "solution": true
    },
    "scrolled": true
   },
   "outputs": [
    {
     "data": {
      "image/png": "[encoded data removed]",
      "text/plain": [
       "<Figure size 720x432 with 1 Axes>"
      ]
     },
     "metadata": {
      "needs_background": "light"
     },
     "output_type": "display_data"
    }
   ],
   "source": [
    "alphavals=np.linspace(0,0.01,100)\n",
    "diffE=[]\n",
    "    \n",
    "for alpha in alphavals:\n",
    "    E0, E1 = energy_levels(alpha)\n",
    "    diffE.append(abs(E0-E1))\n",
    "plt.plot(alphavals,diffE)\n",
    "plt.xlabel(\"Alpha values\")\n",
    "plt.ylabel(\"Energy difference (eV)\")\n",
    "plt.title(\"Energy difference against alpha values\")\n",
    "plt.show()"
   ]
  },
  {
   "cell_type": "code",
   "execution_count": 21,
   "metadata": {
    "deletable": false,
    "editable": false,
    "nbgrader": {
     "checksum": "4414341369251bf709454d02ab49bd62",
     "grade": true,
     "grade_id": "cell-fc23652c94718b32",
     "locked": true,
     "points": 1,
     "schema_version": 1,
     "solution": false
    }
   },
   "outputs": [
    {
     "name": "stdout",
     "output_type": "stream",
     "text": [
      "alpha = 0.00: (-13.602616600831771, -3.4010302256445417)\n",
      "alpha = 0.01: (-13.804752916919059, -3.5342998033762694)\n"
     ]
    }
   ],
   "source": [
    "# Print out the energy levels for alpha = 0, 0.01.\n",
    "e_levels_0 = energy_levels(0.0)\n",
    "e_levels_0_01 = energy_levels(0.01)\n",
    "print (\"alpha = 0.00:\", e_levels_0)\n",
    "print (\"alpha = 0.01:\", e_levels_0_01)"
   ]
  },
  {
   "cell_type": "markdown",
   "metadata": {
    "deletable": false,
    "editable": false,
    "nbgrader": {
     "checksum": "3519e8363c45fba424468017553fd09b",
     "grade": false,
     "grade_id": "cell-547de7c76197f8d2",
     "locked": true,
     "schema_version": 1,
     "solution": false
    }
   },
   "source": [
    "## Task 4\n",
    "\n",
    "In addition to (3), assuming that the transition between the 1st excited and the ground state corresponds to the wavelength $\\lambda = 121.5 \\pm 0.1$ nm, what is the maximum value of $\\alpha_{max} > 0$ consistent with this measurement (i.e., the largest $\\alpha_{max} > 0$ such that the predicted and measured wavelengths differ by less than 0.1 nm)?"
   ]
  },
  {
   "cell_type": "code",
   "execution_count": 22,
   "metadata": {
    "deletable": false,
    "nbgrader": {
     "checksum": "1926950af1c7291299007deecdaa7d22",
     "grade": false,
     "grade_id": "cell-c0d47efa2e971212",
     "locked": false,
     "schema_version": 1,
     "solution": true
    }
   },
   "outputs": [],
   "source": [
    "def root1(alpha):\n",
    "    \n",
    "    E0, E1 = energy_levels(alpha)\n",
    "    deltaE = E1 - E0\n",
    "    return((hc/deltaE) - 121.4)\n",
    "\n",
    "def find_alpha_max():\n",
    "    alpha_max=brentq(root1, 0, 0.01)\n",
    "    return alpha_max\n"
   ]
  },
  {
   "cell_type": "code",
   "execution_count": 23,
   "metadata": {
    "deletable": false,
    "editable": false,
    "nbgrader": {
     "checksum": "7d93cbd02ec1b49d9f572d3b0af2654c",
     "grade": true,
     "grade_id": "cell-00bed43810c0e700",
     "locked": true,
     "points": 1,
     "schema_version": 1,
     "solution": false
    }
   },
   "outputs": [
    {
     "name": "stdout",
     "output_type": "stream",
     "text": [
      "alpha_max: 0.0016544719328677353\n"
     ]
    }
   ],
   "source": [
    "# Run the function and print alpha_max.\n",
    "alpha_max = find_alpha_max()\n",
    "print (\"alpha_max:\", alpha_max)"
   ]
  },
  {
   "cell_type": "markdown",
   "metadata": {
    "deletable": false,
    "editable": false,
    "nbgrader": {
     "checksum": "93f90de2b9e64c1d6b9c50b95e0e405b",
     "grade": false,
     "grade_id": "cell-2aaf30fbd8a5ef71",
     "locked": true,
     "schema_version": 1,
     "solution": false
    }
   },
   "source": [
    "## Task 5\n",
    "\n",
    "Improve the accuracy of the computation of the two energy levels to 0.001 eV and find $\\alpha_{max}$ assuming the wavelength $\\lambda = 121.503 \\pm 0.01$ nm."
   ]
  },
  {
   "cell_type": "code",
   "execution_count": 25,
   "metadata": {
    "deletable": false,
    "nbgrader": {
     "checksum": "86a767a9f016bd50d5f5dd011356b96a",
     "grade": false,
     "grade_id": "cell-e42b7ae120a58a99",
     "locked": false,
     "schema_version": 1,
     "solution": true
    },
    "scrolled": true
   },
   "outputs": [],
   "source": [
    "### TASK 5\n",
    "N2 =3000\n",
    "rmax2=1.25\n",
    "deltar2=rmax2/N2\n",
    "\n",
    "\n",
    "diagonals2 = [np.full((N2),  -2),\n",
    "             np.full((N2-1), 1),\n",
    "             np.full((N2-1), 1)]\n",
    "\n",
    "\n",
    "hh2 = diags(diagonals2, [0, -1, 1])\n",
    "hh2 = hh2/deltar2**2\n",
    "    \n",
    "def energy_levels_improved(alpha):\n",
    "    \n",
    "    r_range=np.arange(1,N2+1)\n",
    "    \n",
    "    vmatrix2=np.diag(potential_analitical(r_range*deltar2,alpha))\n",
    "    hamiltonian=-c1*hh2+vmatrix2\n",
    "    vv, ww = eigs(hamiltonian,sigma=-13.6, k=min(100, N2-2), which=\"LM\")\n",
    "    E = np.sort(np.real(vv))\n",
    "    \n",
    "    return E[0], E[1]\n",
    "\n",
    "def root(alpha):\n",
    "    \n",
    "    E0, E1 = energy_levels_improved(alpha)\n",
    "    deltaE = E1 - E0\n",
    "    return((hc/deltaE) - 121.493)\n",
    "\n",
    "def find_alpha_max_improved():\n",
    "    alpha_max=brentq(root, 0, 0.01)\n",
    "    return alpha_max\n"
   ]
  },
  {
   "cell_type": "code",
   "execution_count": 27,
   "metadata": {
    "deletable": false,
    "editable": false,
    "nbgrader": {
     "checksum": "0ebb40a99841a096d2ee12343f233354",
     "grade": true,
     "grade_id": "cell-c5e8f8c0ae2aa71f",
     "locked": true,
     "points": 1,
     "schema_version": 1,
     "solution": false
    }
   },
   "outputs": [
    {
     "name": "stdout",
     "output_type": "stream",
     "text": [
      "alpha = 0.01: (-13.807217221122329, -3.5345778562376022)\n",
      "alpha_max: 0.00014974372339278597\n"
     ]
    }
   ],
   "source": [
    "# Run the function and print alpha_max.\n",
    "e_levels_0_01 = energy_levels_improved(0.01)\n",
    "print (\"alpha = 0.01:\", e_levels_0_01)\n",
    "# Run the function and print alpha_max.\n",
    "alpha_max_improved = find_alpha_max_improved()\n",
    "print (\"alpha_max:\", alpha_max_improved)"
   ]
  },
  {
   "cell_type": "markdown",
   "metadata": {
    "deletable": false,
    "editable": false,
    "nbgrader": {
     "checksum": "80cecbfebef754b069b877d69559b1a2",
     "grade": false,
     "grade_id": "cell-f7de0ebd0405e762",
     "locked": true,
     "schema_version": 1,
     "solution": false
    }
   },
   "source": [
    "## Task 6\n",
    "\n",
    "How would one achieve the same accuracy with significantly smaller matrices? Hint: can we represent $R$ from Eq. (1) as a linear combination of functions that solve the \"unperturbed\" equation, and translate this into an eigenproblem for a certain $N \\times N$ matrix, with $N < 100$?"
   ]
  },
  {
   "cell_type": "code",
   "execution_count": null,
   "metadata": {
    "deletable": false,
    "nbgrader": {
     "checksum": "9987c3035ceffbeefd59c74786feafd8",
     "grade": false,
     "grade_id": "cell-d396d5b5b764f5a8",
     "locked": false,
     "schema_version": 1,
     "solution": true
    }
   },
   "outputs": [],
   "source": [
    "### TASK 6\n",
    "\n"
   ]
  },
  {
   "cell_type": "code",
   "execution_count": null,
   "metadata": {
    "deletable": false,
    "editable": false,
    "nbgrader": {
     "checksum": "cea78b0f17d8ad803a168c34f93803c7",
     "grade": true,
     "grade_id": "cell-7cad205f27680c87",
     "locked": true,
     "points": 1,
     "schema_version": 1,
     "solution": false
    }
   },
   "outputs": [],
   "source": [
    "# Run the function and print alpha_max.\n",
    "e_levels_0_01 = energy_levels_best(0.01)\n",
    "print (\"alpha = 0.01:\", e_levels_0_01)\n",
    "# Run the function and print alpha_max.\n",
    "alpha_max_best = find_alpha_max_best()\n",
    "print (\"alpha_max:\", alpha_max_best)"
   ]
  }
 ],
 "metadata": {
  "kernelspec": {
   "display_name": "Python 3",
   "language": "python",
   "name": "python3"
  },
  "language_info": {
   "codemirror_mode": {
    "name": "ipython",
    "version": 3
   },
   "file_extension": ".py",
   "mimetype": "text/x-python",
   "name": "python",
   "nbconvert_exporter": "python",
   "pygments_lexer": "ipython3",
   "version": "3.7.3"
  }
 },
 "nbformat": 4,
 "nbformat_minor": 2
}
