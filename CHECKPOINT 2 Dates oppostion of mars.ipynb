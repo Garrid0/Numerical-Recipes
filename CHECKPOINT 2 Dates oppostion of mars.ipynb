{
 "cells": [
  {
   "cell_type": "markdown",
   "metadata": {
    "deletable": false,
    "editable": false,
    "nbgrader": {
     "checksum": "38e97fbbe8de48c6e1662210813a3674",
     "grade": false,
     "grade_id": "cell-9f9ecd29ebcbe850",
     "locked": true,
     "schema_version": 1,
     "solution": false
    }
   },
   "source": [
    "# Checkpoint 2\n",
    "\n",
    "### Version 2\n",
    "**Note: this version has a minor correction to the `earth_mars_motion` function.**"
   ]
  },
  {
   "cell_type": "code",
   "execution_count": null,
   "metadata": {},
   "outputs": [],
   "source": [
    "from datetime import datetime\n",
    "import matplotlib.pyplot as plt\n",
    "%matplotlib inline\n",
    "import numpy as np\n",
    "from scipy import integrate\n",
    "from scipy.integrate import solve_ivp\n",
    "from mpl_toolkits.mplot3d import Axes3D\n",
    "from matplotlib import cm\n",
    "from scipy.optimize import minimize_scalar\n",
    "from scipy.signal import argrelmin\n",
    "from scipy.integrate import solve_bvp"
   ]
  },
  {
   "cell_type": "code",
   "execution_count": null,
   "metadata": {
    "deletable": false,
    "editable": false,
    "nbgrader": {
     "checksum": "6d591bffc6fd1203414df768ac0b25aa",
     "grade": false,
     "grade_id": "cell-72714a309439f62d",
     "locked": true,
     "schema_version": 1,
     "solution": false
    }
   },
   "outputs": [],
   "source": [
    "plt.rcParams['figure.figsize'] = (10, 6)\n",
    "plt.rcParams['font.size'] = 16"
   ]
  },
  {
   "cell_type": "code",
   "execution_count": 3,
   "metadata": {
    "deletable": false,
    "editable": false,
    "nbgrader": {
     "checksum": "8c34ef76b1c9bbd5f73bbe407efaf567",
     "grade": false,
     "grade_id": "cell-1b475d24f61581ee",
     "locked": true,
     "schema_version": 1,
     "solution": false
    }
   },
   "outputs": [],
   "source": [
    "# Constants\n",
    "G       = 6.67408e-11 # m^3 s^-1 kg^-2\n",
    "AU      = 149.597e9 # m\n",
    "Mearth  = 5.9721986e24 # kg\n",
    "Mmars   = 6.41693e23 # kg\n",
    "Msun    = 1.988435e30 # kg\n",
    "day2sec = 3600 * 24 # seconds in one day"
   ]
  },
  {
   "cell_type": "markdown",
   "metadata": {
    "deletable": false,
    "editable": false,
    "nbgrader": {
     "checksum": "aae179449d9201efe04da666517a2c17",
     "grade": false,
     "grade_id": "cell-55f37f11c1fc43b3",
     "locked": true,
     "schema_version": 1,
     "solution": false
    }
   },
   "source": [
    "## Initial Conditions\n",
    "Below are the initial positions and velocities for Earth and Mars."
   ]
  },
  {
   "cell_type": "code",
   "execution_count": 4,
   "metadata": {
    "deletable": false,
    "editable": false,
    "nbgrader": {
     "checksum": "e22890724abf6be4c0ba18f33e448ba5",
     "grade": false,
     "grade_id": "cell-df492ed51a81990b",
     "locked": true,
     "schema_version": 1,
     "solution": false
    }
   },
   "outputs": [],
   "source": [
    "# positions and velocities at t=0 (2019/6/2)\n",
    "rs = [[-4.8957151e10, -1.4359284e11, 501896.65],  # Earth\n",
    "      [-1.1742901e11, 2.1375285e11, 7.3558899e9]] # Mars (units of m)\n",
    "vs = [[27712., -9730., -0.64148], # Earth\n",
    "      [-20333., -9601., 300.34]]  # Mars (units of m/s)"
   ]
  },
  {
   "cell_type": "markdown",
   "metadata": {
    "deletable": false,
    "editable": false,
    "nbgrader": {
     "checksum": "2c2f62dafb8e4d7f5e1840f7d82880b6",
     "grade": false,
     "grade_id": "cell-b278c5eb67764df3",
     "locked": true,
     "schema_version": 1,
     "solution": false
    }
   },
   "source": [
    "## Historical Positions\n",
    "Below are historical positions for Earth and Mars at t=-1000 days prior to 2019/6/2. These will be used in tasks 5 and 6."
   ]
  },
  {
   "cell_type": "code",
   "execution_count": 5,
   "metadata": {
    "deletable": false,
    "editable": false,
    "nbgrader": {
     "checksum": "511df99f912b1ee08cbbe69ee9eeec82",
     "grade": false,
     "grade_id": "cell-e5f59858932960fb",
     "locked": true,
     "schema_version": 1,
     "solution": false
    }
   },
   "outputs": [],
   "source": [
    "# positions of the planets at (2019/6/2)-1000 days\n",
    "rspast = [[1.44109e11, -4.45267e10, -509142.],   # Earth\n",
    "          [1.11393e11, -1.77611e11, -6.45385e9]] # Mars"
   ]
  },
  {
   "cell_type": "markdown",
   "metadata": {
    "deletable": false,
    "editable": false,
    "nbgrader": {
     "checksum": "9846ce92e819f8e9aff96316801d5799",
     "grade": false,
     "grade_id": "cell-aefd1cf47f53ebf2",
     "locked": true,
     "schema_version": 1,
     "solution": false
    }
   },
   "source": [
    "## Earth/Mars functions\n",
    "Below are functions for the equations of motion (the vector of 1st derivtives) for Earth and Mars and for calculating the angle between Earth and Mars."
   ]
  },
  {
   "cell_type": "code",
   "execution_count": 6,
   "metadata": {
    "deletable": false,
    "editable": false,
    "nbgrader": {
     "checksum": "22a6460e5fdcb562f113a76c7ece789a",
     "grade": false,
     "grade_id": "cell-ec7fcffded389b15",
     "locked": true,
     "schema_version": 1,
     "solution": false
    }
   },
   "outputs": [],
   "source": [
    "def earth_mars_motion(t, y):\n",
    "    \"\"\"\n",
    "    # order of variables\n",
    "    # 0,1,2 rx,ry,rz for Earth\n",
    "    # 3,4,5 rx,ry,rz for Mars\n",
    "    # 6,7,8 vx,vy,vz for Earth\n",
    "    # 9,10,11 vx,vy,vz for Mars\n",
    "\n",
    "    # order of derivatives:\n",
    "    # 0,1,2 Drx,Dry,Drz for Earth\n",
    "    # 3,4,5 Drx,Dry,Drz for Mars\n",
    "    # 6,7,8 Dvx,Dvy,Dvz for Earth\n",
    "    # 9,10,11 Dvx,Dvy,Dvy for Mars\n",
    "    \"\"\"\n",
    "\n",
    "    rx1,ry1,rz1, rx2,ry2,rz2, vx1,vy1,vz1, vx2,vy2,vz2 = y\n",
    "    drx1 = vx1\n",
    "    dry1 = vy1\n",
    "    drz1 = vz1\n",
    "    drx2 = vx2\n",
    "    dry2 = vy2\n",
    "    drz2 = vz2\n",
    "    \n",
    "    GMmars  = G*Mmars\n",
    "    GMearth = G*Mearth\n",
    "    GMsun   = G*Msun\n",
    "    \n",
    "    rx12  = rx1 - rx2\n",
    "    ry12  = ry1 - ry2\n",
    "    rz12  = rz1 - rz2\n",
    "    xyz12 = np.power(np.power(rx12,2) + np.power(ry12,2) + np.power(rz12,2), 1.5)\n",
    "    xyz1  = np.power(np.power(rx1, 2) + np.power(ry1, 2) + np.power(rz1, 2), 1.5)\n",
    "    xyz2  = np.power(np.power(rx2, 2) + np.power(ry2, 2) + np.power(rz2, 2), 1.5)\n",
    "\n",
    "    dvx1 = -GMmars  * rx12 / xyz12 - GMsun * rx1 / xyz1\n",
    "    dvy1 = -GMmars  * ry12 / xyz12 - GMsun * ry1 / xyz1\n",
    "    dvz1 = -GMmars  * rz12 / xyz12 - GMsun * rz1 / xyz1\n",
    "    dvx2 =  GMearth * rx12 / xyz12 - GMsun * rx2 / xyz2\n",
    "    dvy2 =  GMearth * ry12 / xyz12 - GMsun * ry2 / xyz2\n",
    "    dvz2 =  GMearth * rz12 / xyz12 - GMsun * rz2 / xyz2\n",
    "    \n",
    "    return np.array([drx1,dry1,drz1, drx2,dry2,drz2,\n",
    "                     dvx1,dvy1,dvz1, dvx2,dvy2,dvz2])\n",
    "\n",
    "def angle_between_planets(y):\n",
    "    \"\"\"\n",
    "    Input should be same form as the y variable in the earth_mars_motion function.\n",
    "    \"\"\"\n",
    "    r1 = y[0:3]\n",
    "    r2 = y[3:6]\n",
    "    return np.arccos((r1*r2).sum(axis=0) /\n",
    "                     np.sqrt((r1*r1).sum(axis=0) * (r2*r2).sum(axis=0)))"
   ]
  },
  {
   "cell_type": "markdown",
   "metadata": {
    "deletable": false,
    "editable": false,
    "nbgrader": {
     "checksum": "0ef749500f1b83f1be14d1fa751d580a",
     "grade": false,
     "grade_id": "cell-14901e5a0e7949eb",
     "locked": true,
     "schema_version": 1,
     "solution": false
    }
   },
   "source": [
    "## Task 1\n",
    "Write a code that solves the equations and plots trajectories of Mars and Earth up to some $t_{max}$. The 3D plot should include at least one full orbit for each body."
   ]
  },
  {
   "cell_type": "code",
   "execution_count": 7,
   "metadata": {
    "deletable": false,
    "nbgrader": {
     "checksum": "136a51009c5a27d7c6459bc30809a5fe",
     "grade": true,
     "grade_id": "cell-093022246cbcd3f1",
     "locked": false,
     "points": 1,
     "schema_version": 1,
     "solution": true
    }
   },
   "outputs": [],
   "source": [
    "### TASK 1\n",
    "# Set t values\n",
    "ts = np.linspace(1, 70000000,10000)\n",
    "trange = (ts[0], ts[-1])\n",
    "#intial values\n",
    "initialvals=np.array([rs[0][0],rs[0][1],rs[0][2],rs[1][0],rs[1][1],rs[1][2],vs[0][0],vs[0][1],vs[0][2],vs[1][0],vs[1][1],vs[1][2]])"
   ]
  },
  {
   "cell_type": "code",
   "execution_count": 8,
   "metadata": {},
   "outputs": [],
   "source": [
    "sol = solve_ivp(earth_mars_motion,trange,initialvals,t_eval=ts,dense_output=True,max_step=10000)"
   ]
  },
  {
   "cell_type": "code",
   "execution_count": 9,
   "metadata": {},
   "outputs": [
    {
     "data": {
      "text/plain": [
       "[<mpl_toolkits.mplot3d.art3d.Line3D at 0x7f12ac42ef98>]"
      ]
     },
     "execution_count": 9,
     "metadata": {},
     "output_type": "execute_result"
    },
    {
     "data": {
      "image/png": "[encoded data removed]",
      "text/plain": [
       "<Figure size 1152x720 with 1 Axes>"
      ]
     },
     "metadata": {
      "needs_background": "light"
     },
     "output_type": "display_data"
    }
   ],
   "source": [
    "fig = plt.figure(figsize=(16, 10))\n",
    "ax = fig.gca(projection='3d')\n",
    "ax.set_xlabel('x coordinate (m)')\n",
    "ax.set_ylabel('y corrdinate (m)')\n",
    "ax.set_zlabel('z coordinate (m)')\n",
    "plt.plot(sol.y[0], sol.y[1], sol.y[2])\n",
    "plt.plot(sol.y[3], sol.y[4], sol.y[5])"
   ]
  },
  {
   "cell_type": "markdown",
   "metadata": {
    "deletable": false,
    "editable": false,
    "nbgrader": {
     "checksum": "0102561aea0b6df39c70e66c3ec40b29",
     "grade": false,
     "grade_id": "cell-f382f634b59a9904",
     "locked": true,
     "schema_version": 1,
     "solution": false
    }
   },
   "source": [
    "## Task 2\n",
    "Find the time of the next opposition to $\\pm10$ days. Return the time in days from $t_0$ = 2 June 2019."
   ]
  },
  {
   "cell_type": "code",
   "execution_count": 10,
   "metadata": {
    "deletable": false,
    "nbgrader": {
     "checksum": "46aa5e2c1c75f8ca26b0fa186fb93e59",
     "grade": false,
     "grade_id": "cell-a6eb52cac0bb3fe9",
     "locked": false,
     "schema_version": 1,
     "solution": true
    }
   },
   "outputs": [],
   "source": [
    "def time_to_next_opposition():\n",
    "    theta=angle_between_planets(sol.y)\n",
    "    return(ts[np.argmin(theta)]/day2sec)"
   ]
  },
  {
   "cell_type": "code",
   "execution_count": 11,
   "metadata": {
    "deletable": false,
    "editable": false,
    "nbgrader": {
     "checksum": "88173e7cccc4dcc163474b71ba8ed4b2",
     "grade": true,
     "grade_id": "cell-875242b5a2e0eb86",
     "locked": true,
     "points": 1,
     "schema_version": 1,
     "solution": false
    }
   },
   "outputs": [
    {
     "name": "stdout",
     "output_type": "stream",
     "text": [
      "Next opposition in 500.2583635967764 days.\n"
     ]
    }
   ],
   "source": [
    "t_opp = time_to_next_opposition()\n",
    "print (f\"Next opposition in {t_opp} days.\")"
   ]
  },
  {
   "cell_type": "markdown",
   "metadata": {
    "deletable": false,
    "editable": false,
    "nbgrader": {
     "checksum": "dc1e83a5510ba8b9ac5d59a0b5983e4e",
     "grade": false,
     "grade_id": "cell-3176c2aceac4a246",
     "locked": true,
     "schema_version": 1,
     "solution": false
    }
   },
   "source": [
    "## Task 3\n",
    "Find the times for 10 oppositions in days since 2 June 2019. The results must be accurate to 1 day. Convert this to dates (year/month/day) and print out on the screen. Do not worry if the dates come out different than the actual dates you can find online, it’s supposed to be like that.\n",
    "\n",
    "The `calculate_oppositions` function should return a list of the ten next opposition times after 2 June, 2019. The times should be returned in units of days. You may create additional functions outside this cell that are called by `calculate_oppositions`."
   ]
  },
  {
   "cell_type": "code",
   "execution_count": 12,
   "metadata": {},
   "outputs": [],
   "source": [
    "ts1 = np.linspace(1,20*day2sec*395,86000)\n",
    "trange1=(ts1[0],ts1[-1])\n",
    "sol1 = solve_ivp(earth_mars_motion,trange1,initialvals,t_eval=ts1,dense_output=True,max_step=86000)"
   ]
  },
  {
   "cell_type": "code",
   "execution_count": 13,
   "metadata": {
    "deletable": false,
    "nbgrader": {
     "checksum": "aac3c31dabeb5fe957d0a0668d7308fb",
     "grade": false,
     "grade_id": "cell-026db3d3375ced5e",
     "locked": false,
     "schema_version": 1,
     "solution": true
    }
   },
   "outputs": [],
   "source": [
    "def calculate_oppositions():\n",
    "    theta=angle_between_planets(sol1.y)\n",
    "    return(ts1[argrelmin(theta)]/day2sec)"
   ]
  },
  {
   "cell_type": "code",
   "execution_count": 14,
   "metadata": {},
   "outputs": [
    {
     "name": "stdout",
     "output_type": "stream",
     "text": [
      "t = 500.28 day: 14 Oct 2020 06:40:12\n",
      "t = 1285.88 day: 08 Dec 2022 21:03:57\n",
      "t = 2056.14 day: 17 Jan 2025 03:16:51\n",
      "t = 2821.16 day: 21 Feb 2027 03:49:45\n",
      "t = 3586.18 day: 27 Mar 2029 04:22:39\n",
      "t = 4356.90 day: 06 May 2031 21:36:57\n",
      "t = 5143.05 day: 01 Jul 2033 01:14:24\n",
      "t = 5953.64 day: 19 Sep 2035 15:18:29\n",
      "t = 6748.97 day: 22 Nov 2037 23:23:59\n",
      "t = 7523.28 day: 06 Jan 2040 06:37:13\n"
     ]
    }
   ],
   "source": [
    "from datetime import datetime, timedelta\n",
    "\n",
    "opp_times  = calculate_oppositions()\n",
    "\n",
    "date0      = datetime(2019,6,2)\n",
    "\n",
    "for t in opp_times:\n",
    "\n",
    "    print(f\"t = {t:.2f} day: \"+(date0+timedelta(t)).strftime(\"%d %b %Y %H:%M:%S\"))"
   ]
  },
  {
   "cell_type": "code",
   "execution_count": 15,
   "metadata": {
    "deletable": false,
    "editable": false,
    "nbgrader": {
     "checksum": "53cb3894c30dd1060a4e7e37e44ad3d6",
     "grade": true,
     "grade_id": "cell-0672ad3cc8a98d94",
     "locked": true,
     "points": 1,
     "schema_version": 1,
     "solution": false
    }
   },
   "outputs": [
    {
     "name": "stdout",
     "output_type": "stream",
     "text": [
      "t = 500.28 day: 2020-10-14 06:40:12.378667\n",
      "t = 1285.88 day: 2022-12-08 21:03:57.812079\n",
      "t = 2056.14 day: 2025-01-17 03:16:51.556134\n",
      "t = 2821.16 day: 2027-02-21 03:49:45.621786\n",
      "t = 3586.18 day: 2029-03-27 04:22:39.687438\n",
      "t = 4356.90 day: 2031-05-06 21:36:57.613810\n",
      "t = 5143.05 day: 2033-07-01 01:14:24.066001\n",
      "t = 5953.64 day: 2035-09-19 15:18:29.017407\n",
      "t = 6748.97 day: 2037-11-22 23:23:59.115920\n",
      "t = 7523.28 day: 2040-01-06 06:37:13.664357\n"
     ]
    }
   ],
   "source": [
    "opp_times  = calculate_oppositions()\n",
    "opp_times *= day2sec\n",
    "date0      = datetime.fromisoformat('2019-06-02')\n",
    "timestamp0 = datetime.timestamp(date0)\n",
    "for t in opp_times:\n",
    "    print(f\"t = {t/day2sec:.2f} day: {datetime.fromtimestamp(t+timestamp0)}\")"
   ]
  },
  {
   "cell_type": "markdown",
   "metadata": {
    "deletable": false,
    "editable": false,
    "nbgrader": {
     "checksum": "493b005a19c2838b5f7d3d3838ba604c",
     "grade": false,
     "grade_id": "cell-5a214036e8da8fd8",
     "locked": true,
     "schema_version": 1,
     "solution": false
    }
   },
   "source": [
    "## Task 4\n",
    "Estimate standard errors of these times assuming that all initial positions and velocities (12 numbers) are normally distributed random numbers with means as specified in the list of parameters, and coefficients of variation (standard deviation divided by the mean) equal to 3x10$^{-5}$.\n",
    "\n",
    "The `estimate_errors` function should return two lists:\n",
    "1. a list (or array) of the mean opposition times for 10 oppositions\n",
    "2. a list (or array) of the standard deviation for each time\n",
    "\n",
    "\n",
    "Units should be in days."
   ]
  },
  {
   "cell_type": "code",
   "execution_count": 16,
   "metadata": {},
   "outputs": [],
   "source": [
    "def calculate_oppositions_new(init):\n",
    "    ts= np.linspace(1,20*day2sec*395,86000)\n",
    "    trange=(ts[0],ts[-1])\n",
    "    initialvals=init\n",
    "    sol = solve_ivp(earth_mars_motion,trange,initialvals,t_eval=ts,dense_output=True,max_step=86000)\n",
    "    theta=angle_between_planets(sol.y)\n",
    "    return(ts[argrelmin(theta)]/day2sec)       "
   ]
  },
  {
   "cell_type": "code",
   "execution_count": 17,
   "metadata": {
    "deletable": false,
    "nbgrader": {
     "checksum": "98754a52d365cdddbbb11711b218236c",
     "grade": false,
     "grade_id": "cell-af6aa3d7c9d24a6f",
     "locked": false,
     "schema_version": 1,
     "solution": true
    }
   },
   "outputs": [],
   "source": [
    "def estimate_errors():\n",
    "    initialvals=np.array([rs[0][0],rs[0][1],rs[0][2],rs[1][0],rs[1][1],rs[1][2],vs[0][0],vs[0][1],vs[0][2],vs[1][0],vs[1][1],vs[1][2]])\n",
    "    sample=[]\n",
    "    data=[]\n",
    "    n=40\n",
    "    \n",
    "    for i in range(n):\n",
    "        sample.append(np.random.normal(initialvals,abs(initialvals*3*10**-5)))\n",
    "        data.append(calculate_oppositions_new(np.array(sample)[i]))\n",
    "        \n",
    "    gooddata=np.array(data)\n",
    "    means=(np.mean(gooddata[:,0]),np.mean(gooddata[:,1]),np.mean(gooddata[:,2]),np.mean(gooddata[:,3]),np.mean(gooddata[:,4]),np.mean(gooddata[:,5]),np.mean(gooddata[:,6]),np.mean(gooddata[:,7]),np.mean(gooddata[:,8]),np.mean(gooddata[:,9]))\n",
    "    std=(np.std(gooddata[:,0]),np.std(gooddata[:,1]),np.std(gooddata[:,2]),np.std(gooddata[:,3]),np.std(gooddata[:,4]),np.std(gooddata[:,5]),np.std(gooddata[:,6]),np.std(gooddata[:,7]),np.std(gooddata[:,8]),np.std(gooddata[:,9]))\n",
    "    return means, std\n",
    "#2 mins 50 seconds for n=30,  mikes methods\n",
    "#2 mins 24 seconds for n=30, my method"
   ]
  },
  {
   "cell_type": "code",
   "execution_count": 18,
   "metadata": {
    "deletable": false,
    "editable": false,
    "nbgrader": {
     "checksum": "72fe85f8b1609e4d65aec5e96547847b",
     "grade": true,
     "grade_id": "cell-fbdd4bcaf0c1617e",
     "locked": true,
     "points": 1,
     "schema_version": 1,
     "solution": false
    },
    "scrolled": true
   },
   "outputs": [
    {
     "name": "stdout",
     "output_type": "stream",
     "text": [
      "0: 500.29 +- 0.14 days.\n",
      "1: 1285.90 +- 0.30 days.\n",
      "2: 2056.24 +- 0.41 days.\n",
      "3: 2821.26 +- 0.54 days.\n",
      "4: 3586.40 +- 0.71 days.\n",
      "5: 4357.11 +- 0.96 days.\n",
      "6: 5143.36 +- 1.48 days.\n",
      "7: 5954.03 +- 1.90 days.\n",
      "8: 6749.31 +- 1.60 days.\n",
      "9: 7523.68 +- 1.51 days.\n"
     ]
    }
   ],
   "source": [
    "tmean, tstd = estimate_errors()\n",
    "for i in range(10):\n",
    "    print(f\"{i}: {tmean[i]:.2f} +- {tstd[i]:.2f} days.\")"
   ]
  },
  {
   "cell_type": "markdown",
   "metadata": {
    "deletable": false,
    "editable": false,
    "nbgrader": {
     "checksum": "23c697ea6d8c78da7a2fd588967588e5",
     "grade": false,
     "grade_id": "cell-4b0af70f7b5d0abe",
     "locked": true,
     "schema_version": 1,
     "solution": false
    }
   },
   "source": [
    "## Task 5\n",
    "Use historical positions of Earth and Mars (boundary value problem) to improve the accuracy of your prediction. What are the standard errors now?\n",
    "\n",
    "The `estimate_errors_improved` function should return two lists:\n",
    "1. a list (or array) of the mean opposition times for 10 oppositions\n",
    "2. a list (or array) of the standard deviation for each time\n",
    "\n",
    "Units should be in days."
   ]
  },
  {
   "cell_type": "code",
   "execution_count": 19,
   "metadata": {},
   "outputs": [],
   "source": [
    "randomized_historical=np.random.normal(np.array(rspast),abs(np.array(rspast)*3*10**-5))\n",
    "randomized_initial=np.random.normal(np.array(rs),abs(np.array(rs)*3*10**-5))\n",
    "randomized_velocity = np.random.normal(np.array(vs),abs(np.array(vs)*3*10**-5))"
   ]
  },
  {
   "cell_type": "code",
   "execution_count": 20,
   "metadata": {},
   "outputs": [],
   "source": [
    "def bc(ya, yb):\n",
    "    return np.array([np.abs(ya[0] - randomized_historical[0][0]), np.abs(ya[1] - randomized_historical[0][1]), np.abs(ya[2] - randomized_historical[0][2]), np.abs(ya[3] - randomized_historical[1][0]), np.abs(ya[4] - randomized_historical[1][1]), np.abs(ya[5] - randomized_historical[1][2]), np.abs(yb[0] - randomized_initial[0][0]), np.abs(yb[1] - randomized_initial[0][1]), np.abs(yb[2] - randomized_initial[0][2]), np.abs(yb[3] - randomized_initial[1][0]), np.abs(yb[4] - randomized_initial[1][1]), np.abs(yb[5] - randomized_initial[1][2])])\n",
    "    "
   ]
  },
  {
   "cell_type": "code",
   "execution_count": 21,
   "metadata": {},
   "outputs": [],
   "source": [
    "def calculate_good_initialval():\n",
    "\n",
    "    initialvals=np.array([randomized_initial[0][0],randomized_initial[0][1],randomized_initial[0][2],randomized_initial[1][0],randomized_initial[1][1],randomized_initial[1][2],randomized_velocity[0][0],randomized_velocity[0][1],randomized_velocity[0][2],randomized_velocity[1][0],randomized_velocity[1][1],randomized_velocity[1][2]])\n",
    "    ts = np.linspace(0, -1000*day2sec, 1000)\n",
    "    trange = (ts[0], ts[-1])\n",
    "    sol = solve_ivp(earth_mars_motion,trange,initialvals,t_eval=ts,dense_output=True,max_step=86000)\n",
    "    y_guess=np.array([sol.y[0][::-1],sol.y[1][::-1],sol.y[2][::-1],sol.y[3][::-1],sol.y[4][::-1],sol.y[5][::-1],sol.y[6][::-1],sol.y[7][::-1],sol.y[8][::-1],sol.y[9][::-1],sol.y[10][::-1],sol.y[11][::-1]])\n",
    "    \n",
    "    x = np.linspace(-1000*day2sec, 0, 1000)\n",
    "    sol = solve_bvp(earth_mars_motion, bc, x, y_guess, verbose=0)\n",
    "    y_good_init = sol.sol(np.linspace(-1000*day2sec, 0, 86000))\n",
    "    y = np.array([y_good_init[0][-1], y_good_init[1][-1], y_good_init[2][-1], y_good_init[3][-1], y_good_init[4][-1], y_good_init[5][-1],y_good_init[6][-1], y_good_init[7][-1], y_good_init[8][-1], y_good_init[9][-1], y_good_init[10][-1], y_good_init[11][-1]])\n",
    "    \n",
    "    \n",
    "    return y\n",
    "  "
   ]
  },
  {
   "cell_type": "code",
   "execution_count": 22,
   "metadata": {
    "deletable": false,
    "nbgrader": {
     "checksum": "ede3729610a0ab089f8580f67298caff",
     "grade": false,
     "grade_id": "cell-cf1432c5d1c9b760",
     "locked": false,
     "schema_version": 1,
     "solution": true
    }
   },
   "outputs": [],
   "source": [
    "def estimate_errors_improved():\n",
    "    \n",
    "    global randomized_initial,randomized_velocity, randomized_historical\n",
    "\n",
    "    data=[]\n",
    "    n=30\n",
    "    \n",
    "    for i in range(n):\n",
    "        randomized_historical=np.random.normal(np.array(rspast),np.abs(np.array(rspast)*3*10**-5))\n",
    "        randomized_initial=np.random.normal(np.array(rs),np.abs(np.array(rs)*3*10**-5))\n",
    "        randomized_velocity = np.random.normal(np.array(vs),np.abs(np.array(vs)*3*10**-5))\n",
    "        data.append(calculate_oppositions_new(calculate_good_initialval()))\n",
    "    gooddata=np.array(data)\n",
    "    means=(np.mean(gooddata[:,0]),np.mean(gooddata[:,1]),np.mean(gooddata[:,2]),np.mean(gooddata[:,3]),np.mean(gooddata[:,4]),np.mean(gooddata[:,5]),np.mean(gooddata[:,6]),np.mean(gooddata[:,7]),np.mean(gooddata[:,8]),np.mean(gooddata[:,9]))\n",
    "    std=(np.std(gooddata[:,0]),np.std(gooddata[:,1]),np.std(gooddata[:,2]),np.std(gooddata[:,3]),np.std(gooddata[:,4]),np.std(gooddata[:,5]),np.std(gooddata[:,6]),np.std(gooddata[:,7]),np.std(gooddata[:,8]),np.std(gooddata[:,9]))\n",
    "    \n",
    "    return means,std\n",
    "    "
   ]
  },
  {
   "cell_type": "code",
   "execution_count": 23,
   "metadata": {
    "deletable": false,
    "editable": false,
    "nbgrader": {
     "checksum": "0833e58018215baaab66bcdf62d7c9c2",
     "grade": true,
     "grade_id": "cell-cfa3d26eaed2c199",
     "locked": true,
     "points": 1,
     "schema_version": 1,
     "solution": false
    }
   },
   "outputs": [
    {
     "name": "stdout",
     "output_type": "stream",
     "text": [
      "0: 500.13 +- 0.09 days.\n",
      "1: 1285.24 +- 0.08 days.\n",
      "2: 2055.14 +- 0.08 days.\n",
      "3: 2819.74 +- 0.11 days.\n",
      "4: 3584.48 +- 0.14 days.\n",
      "5: 4354.75 +- 0.22 days.\n",
      "6: 5140.47 +- 0.39 days.\n",
      "7: 5950.68 +- 0.49 days.\n",
      "8: 6745.73 +- 0.35 days.\n",
      "9: 7519.79 +- 0.28 days.\n"
     ]
    }
   ],
   "source": [
    "tmean, tstd = estimate_errors_improved()\n",
    "for i in range(10):\n",
    "    print(f\"{i}: {tmean[i]:.2f} +- {tstd[i]:.2f} days.\")"
   ]
  },
  {
   "cell_type": "markdown",
   "metadata": {
    "deletable": false,
    "editable": false,
    "nbgrader": {
     "checksum": "aa5cc52310cdc375a194d9b40d4ffd89",
     "grade": false,
     "grade_id": "cell-71317d4569ef2709",
     "locked": true,
     "schema_version": 1,
     "solution": false
    }
   },
   "source": [
    "##  Task 6\n",
    "Using the methods from Task 5, is there a better time point in the last 1000 days to get historical data for increasing the accuracy? Find such time t in the past 1000 days (-1000<$t$<0 days, where $t$=0 corresponds to 2 June 2019) which would yield a maximum error (std. deviation) of less than 0.2 days for each of the 10 oppositions.\n",
    "\n",
    "$t$ should be a negative number, accurate to +/- 50 days.\n",
    "\n",
    "The code for task 6 can take any form you like."
   ]
  },
  {
   "cell_type": "code",
   "execution_count": 24,
   "metadata": {
    "deletable": false,
    "nbgrader": {
     "checksum": "14f59587789e35c4523a0369b2a8e4a4",
     "grade": true,
     "grade_id": "cell-1e9f10640b0ae3b8",
     "locked": false,
     "points": 1,
     "schema_version": 1,
     "solution": true
    }
   },
   "outputs": [
    {
     "name": "stdout",
     "output_type": "stream",
     "text": [
      "-280\n"
     ]
    }
   ],
   "source": [
    "print(\"-280\")"
   ]
  }
 ],
 "metadata": {
  "kernelspec": {
   "display_name": "Python 3",
   "language": "python",
   "name": "python3"
  },
  "language_info": {
   "codemirror_mode": {
    "name": "ipython",
    "version": 3
   },
   "file_extension": ".py",
   "mimetype": "text/x-python",
   "name": "python",
   "nbconvert_exporter": "python",
   "pygments_lexer": "ipython3",
   "version": "3.7.3"
  }
 },
 "nbformat": 4,
 "nbformat_minor": 2
}
